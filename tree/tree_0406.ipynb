{
 "cells": [
  {
   "cell_type": "code",
   "execution_count": 1,
   "metadata": {},
   "outputs": [],
   "source": [
    "import numpy as np\n",
    "import pandas as pd\n",
    "import matplotlib.pyplot as plt\n",
    "import seaborn as sns\n",
    "import warnings\n",
    "\n",
    "warnings.filterwarnings(\"ignore\")"
   ]
  },
  {
   "cell_type": "code",
   "execution_count": 17,
   "metadata": {},
   "outputs": [],
   "source": [
    "from sklearn.model_selection import cross_val_score, RepeatedKFold\n",
    "from sklearn.metrics import mean_absolute_error, mean_squared_error, r2_score\n",
    "from sklearn.tree import DecisionTreeRegressor"
   ]
  },
  {
   "cell_type": "code",
   "execution_count": 5,
   "metadata": {},
   "outputs": [],
   "source": [
    "train_X = pd.read_csv(\"soltrainX.csv\")\n",
    "train_y = pd.read_csv(\"soltrainY.csv\")\n",
    "train_X_trans = pd.read_csv(\"soltrainXtrans.csv\")\n",
    "test_X = pd.read_csv(\"soltestX.csv\")\n",
    "test_y = pd.read_csv(\"soltestY.csv\")\n",
    "test_X_trans = pd.read_csv(\"soltestXtrans.csv\")"
   ]
  },
  {
   "cell_type": "code",
   "execution_count": 12,
   "metadata": {},
   "outputs": [],
   "source": [
    "train_X = train_X.iloc[:, 1:]\n",
    "train_y = train_y.iloc[:, 1:]\n",
    "train_X_trans = train_X_trans.iloc[:, 1:]\n",
    "test_X = test_X.iloc[:, 1:]\n",
    "test_y = test_y.iloc[:, 1:]\n",
    "test_X_trans = test_X_trans.iloc[:, 1:]"
   ]
  },
  {
   "cell_type": "code",
   "execution_count": 13,
   "metadata": {},
   "outputs": [
    {
     "name": "stdout",
     "output_type": "stream",
     "text": [
      "shape of train_X: (951, 228)\n",
      "shape of train_y: (951, 1)\n",
      "shape of train_X_trans: (951, 228)\n",
      "shape of test_X: (316, 228)\n",
      "shape of test_y: (316, 1)\n",
      "shape of test_X_trans: (316, 228)\n"
     ]
    }
   ],
   "source": [
    "print(\"shape of train_X:\", train_X.shape)\n",
    "print(\"shape of train_y:\", train_y.shape)\n",
    "print(\"shape of train_X_trans:\", train_X_trans.shape)\n",
    "print(\"shape of test_X:\", test_X.shape)\n",
    "print(\"shape of test_y:\", test_y.shape)\n",
    "print(\"shape of test_X_trans:\", test_X_trans.shape)"
   ]
  },
  {
   "cell_type": "code",
   "execution_count": 15,
   "metadata": {},
   "outputs": [
    {
     "name": "stdout",
     "output_type": "stream",
     "text": [
      "        x\n",
      "0   -3.97\n",
      "1   -3.98\n",
      "2   -3.99\n",
      "3   -4.00\n",
      "4   -4.06\n",
      "..    ...\n",
      "946 -1.26\n",
      "947 -1.28\n",
      "948 -1.30\n",
      "949 -1.32\n",
      "950 -1.34\n",
      "\n",
      "[951 rows x 1 columns]\n"
     ]
    }
   ],
   "source": [
    "print(train_y)"
   ]
  },
  {
   "cell_type": "code",
   "execution_count": 14,
   "metadata": {},
   "outputs": [],
   "source": [
    "np.random.seed(100)"
   ]
  },
  {
   "cell_type": "code",
   "execution_count": null,
   "metadata": {},
   "outputs": [],
   "source": [
    "length = range(1, 10)\n",
    "for depth in length:\n",
    "    DT = DecisionTreeRegressor(max_depth=depth)\n",
    "    model_0 = DT.fit(train_X_trans, train_y)\n",
    "    hat_y = model_0.predict(test_X_trans)\n",
    "    print(f\"maxdepth: {depth}  RMSE: {mean_squared_error()}\")"
   ]
  }
 ],
 "metadata": {
  "kernelspec": {
   "display_name": "Python 3",
   "language": "python",
   "name": "python3"
  },
  "language_info": {
   "codemirror_mode": {
    "name": "ipython",
    "version": 3
   },
   "file_extension": ".py",
   "mimetype": "text/x-python",
   "name": "python",
   "nbconvert_exporter": "python",
   "pygments_lexer": "ipython3",
   "version": "3.9.13"
  },
  "orig_nbformat": 4
 },
 "nbformat": 4,
 "nbformat_minor": 2
}
