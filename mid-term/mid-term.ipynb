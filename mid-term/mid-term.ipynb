{
 "cells": [
  {
   "attachments": {},
   "cell_type": "markdown",
   "id": "c2e02913",
   "metadata": {},
   "source": [
    "# 期中練習\n",
    "---\n",
    "1. 對 y 做 label encoding；把 chem 和 bio 合併成 X\n",
    "2. 切割 training and testing 資料 (9:1)\n",
    "3. 配適模型\n",
    "4. 預測測試集\n",
    "5. 紀錄準確度\n",
    "6. 對x做log轉換 砍太多0的變數\n",
    "7. 再紀錄一次精準度"
   ]
  },
  {
   "attachments": {},
   "cell_type": "markdown",
   "id": "9b8d14f9",
   "metadata": {},
   "source": [
    "## 匯入套件\n",
    "---"
   ]
  },
  {
   "cell_type": "code",
   "execution_count": 1,
   "id": "6fbcdfbe-1a06-4de2-a20c-71a1a5ece533",
   "metadata": {
    "tags": []
   },
   "outputs": [],
   "source": [
    "import numpy as np\n",
    "import pandas as pd\n",
    "import warnings\n",
    "\n",
    "warnings.filterwarnings(\"ignore\")"
   ]
  },
  {
   "cell_type": "code",
   "execution_count": 2,
   "id": "e7e5afdf",
   "metadata": {},
   "outputs": [],
   "source": [
    "from sklearn.model_selection import train_test_split\n",
    "from sklearn.linear_model import LogisticRegression\n",
    "from sklearn.tree import DecisionTreeClassifier\n",
    "from sklearn.ensemble import RandomForestClassifier\n",
    "from sklearn.metrics import accuracy_score"
   ]
  },
  {
   "attachments": {},
   "cell_type": "markdown",
   "id": "90761527",
   "metadata": {},
   "source": [
    "## 讀取資料\n",
    "---"
   ]
  },
  {
   "cell_type": "code",
   "execution_count": 3,
   "id": "6c3af04a-8974-4c36-bcbe-4897d2c07299",
   "metadata": {
    "tags": []
   },
   "outputs": [],
   "source": [
    "bio = pd.read_csv(\"bio.csv\")\n",
    "chem = pd.read_csv(\"chem.csv\")\n",
    "injury = pd.read_csv(\"injury.csv\")\n",
    "\n",
    "bio = bio.iloc[:, 1:]\n",
    "chem = chem.iloc[:, 1:]\n",
    "injury = injury.iloc[:, 1:]"
   ]
  },
  {
   "cell_type": "code",
   "execution_count": 4,
   "id": "c77a98fd-a6e5-48cd-89a5-0e830a9ccfe7",
   "metadata": {
    "tags": []
   },
   "outputs": [
    {
     "name": "stdout",
     "output_type": "stream",
     "text": [
      "shape of bio: (281, 184)\n",
      "shape of chem: (281, 192)\n",
      "shape of injury: (281, 1)\n"
     ]
    }
   ],
   "source": [
    "print(\"shape of bio:\", bio.shape)\n",
    "print(\"shape of chem:\", chem.shape)\n",
    "print(\"shape of injury:\", injury.shape)"
   ]
  },
  {
   "attachments": {},
   "cell_type": "markdown",
   "id": "c5b4e1f7-6a84-4977-bdfd-448587b6635d",
   "metadata": {},
   "source": [
    "##  資料預處理\n",
    "---"
   ]
  },
  {
   "cell_type": "markdown",
   "id": "fd70f39a-9d72-4d80-8350-7c54a185ee05",
   "metadata": {},
   "source": [
    "* Bind “Severe” & “Mild” into “1”, “None” into “0”"
   ]
  },
  {
   "cell_type": "code",
   "execution_count": 5,
   "id": "3bcba6ea-62d2-4703-a0d4-5562045c4836",
   "metadata": {
    "tags": []
   },
   "outputs": [
    {
     "data": {
      "text/plain": [
       "array([1, 0], dtype=int64)"
      ]
     },
     "execution_count": 5,
     "metadata": {},
     "output_type": "execute_result"
    }
   ],
   "source": [
    "injury[\"tidy_x\"] = [0 if x == \"None\" else 1 for x in injury[\"x\"]]\n",
    "injury[\"tidy_x\"].unique()"
   ]
  },
  {
   "cell_type": "markdown",
   "id": "6cfd1e78-c454-4b03-9b67-132c94c8b7ec",
   "metadata": {},
   "source": [
    "* Combine data to a large X matrixunique"
   ]
  },
  {
   "cell_type": "code",
   "execution_count": 6,
   "id": "39f04f99-697f-413d-a71a-78b86669bca7",
   "metadata": {
    "tags": []
   },
   "outputs": [
    {
     "name": "stdout",
     "output_type": "stream",
     "text": [
      "shape of X: (281, 376)\n"
     ]
    }
   ],
   "source": [
    "X = pd.concat([bio, chem], axis=1)\n",
    "print(\"shape of X:\", X.shape)"
   ]
  },
  {
   "attachments": {},
   "cell_type": "markdown",
   "id": "6a50cf54-551c-4455-a5e0-efa0fb8a788d",
   "metadata": {},
   "source": [
    "## 特徵工程\n",
    "---"
   ]
  },
  {
   "attachments": {},
   "cell_type": "markdown",
   "id": "e75077d9-60f8-4441-bf1b-3761772baab0",
   "metadata": {},
   "source": [
    "* Split data to Training  & Prediction set. (9:1)"
   ]
  },
  {
   "cell_type": "code",
   "execution_count": 7,
   "id": "b3fc6cbe-7786-4e68-8435-50f12beb9a25",
   "metadata": {
    "tags": []
   },
   "outputs": [],
   "source": [
    "X_train, X_test, y_train, y_test = train_test_split(X, injury[\"tidy_x\"], test_size=0.1, \n",
    "                                                    random_state=99, shuffle=True)"
   ]
  },
  {
   "cell_type": "code",
   "execution_count": 8,
   "id": "70f9320c-ba09-4432-9280-4f675a143a32",
   "metadata": {
    "tags": []
   },
   "outputs": [
    {
     "name": "stdout",
     "output_type": "stream",
     "text": [
      "shape of X_train: (252, 376)\n",
      "shape of y_train: (252,)\n",
      "shape of X_test: (29, 376)\n",
      "shape of y_test: (29,)\n"
     ]
    }
   ],
   "source": [
    "print(\"shape of X_train:\", X_train.shape)\n",
    "print(\"shape of y_train:\", y_train.shape)\n",
    "print(\"shape of X_test:\", X_test.shape)\n",
    "print(\"shape of y_test:\", y_test.shape)"
   ]
  },
  {
   "cell_type": "code",
   "execution_count": 9,
   "id": "7be05984-47d8-4edc-8d8b-076bf38670d5",
   "metadata": {},
   "outputs": [],
   "source": [
    "# 匯出原始切割數據集\n",
    "\n",
    "X_train.to_csv(\"X_train.csv\")\n",
    "y_train.to_csv(\"y_train.csv\")\n",
    "X_test.to_csv(\"X_test.csv\")\n",
    "y_test.to_csv(\"y_test.csv\")"
   ]
  },
  {
   "attachments": {},
   "cell_type": "markdown",
   "id": "19d37f15",
   "metadata": {},
   "source": [
    "## 模型建置\n",
    "---\n",
    "* Logistic Regression\n",
    "* Decision Tree\n",
    "* Random Forest"
   ]
  },
  {
   "cell_type": "code",
   "execution_count": 10,
   "id": "e983428e",
   "metadata": {},
   "outputs": [
    {
     "name": "stdout",
     "output_type": "stream",
     "text": [
      "Accuracy(train):  0.8373\n"
     ]
    }
   ],
   "source": [
    "LR = LogisticRegression(random_state=42, n_jobs=-1)\n",
    "model_1 = LR.fit(X_train, y_train)\n",
    "y_train_hat = model_1.predict(X_train)\n",
    "print(f\"Accuracy(train): {accuracy_score(y_train, y_train_hat): .4f}\")"
   ]
  },
  {
   "cell_type": "code",
   "execution_count": 11,
   "id": "0ba7480d",
   "metadata": {},
   "outputs": [
    {
     "name": "stdout",
     "output_type": "stream",
     "text": [
      "Accuracy(train):  0.8730\n"
     ]
    }
   ],
   "source": [
    "DT = DecisionTreeClassifier(max_depth=6, random_state=42)\n",
    "model_2 = DT.fit(X_train, y_train)\n",
    "y_train_hat = model_2.predict(X_train)\n",
    "print(f\"Accuracy(train): {accuracy_score(y_train, y_train_hat): .4f}\")"
   ]
  },
  {
   "cell_type": "code",
   "execution_count": 12,
   "id": "9e4ee0a3",
   "metadata": {},
   "outputs": [
    {
     "name": "stdout",
     "output_type": "stream",
     "text": [
      "Accuracy(train):  0.8770\n"
     ]
    }
   ],
   "source": [
    "RF = RandomForestClassifier(max_depth=6, random_state=42, n_jobs=-1)\n",
    "model_3 = RF.fit(X_train, y_train)\n",
    "y_train_hat = model_3.predict(X_train)\n",
    "print(f\"Accuracy(train): {accuracy_score(y_train, y_train_hat): .4f}\")"
   ]
  },
  {
   "attachments": {},
   "cell_type": "markdown",
   "id": "0b6f33eb",
   "metadata": {},
   "source": [
    "## 預測分析\n",
    "---"
   ]
  },
  {
   "cell_type": "code",
   "execution_count": 13,
   "id": "74d6c4f3",
   "metadata": {},
   "outputs": [
    {
     "name": "stdout",
     "output_type": "stream",
     "text": [
      "LR Accuracy(test):  0.6552\n",
      "DT Accuracy(test):  0.6207\n",
      "RF Accuracy(test):  0.5862\n"
     ]
    }
   ],
   "source": [
    "# LR\n",
    "y_test_hat = model_1.predict(X_test)\n",
    "print(f\"LR Accuracy(test): {accuracy_score(y_test, y_test_hat): .4f}\")\n",
    "\n",
    "# DT\n",
    "y_test_hat = model_2.predict(X_test)\n",
    "print(f\"DT Accuracy(test): {accuracy_score(y_test, y_test_hat): .4f}\")\n",
    "\n",
    "# RF\n",
    "y_test_hat = model_3.predict(X_test)\n",
    "print(f\"RF Accuracy(test): {accuracy_score(y_test, y_test_hat): .4f}\")"
   ]
  },
  {
   "attachments": {},
   "cell_type": "markdown",
   "id": "b7be98b1",
   "metadata": {},
   "source": [
    "## 資料預處理（1）\n",
    "---\n",
    "* 對x做log轉換 砍太多0的變數"
   ]
  },
  {
   "cell_type": "code",
   "execution_count": 14,
   "id": "3476d295",
   "metadata": {},
   "outputs": [
    {
     "name": "stdout",
     "output_type": "stream",
     "text": [
      "287\n"
     ]
    }
   ],
   "source": [
    "temp_list = []\n",
    "for name in list(X.columns):\n",
    "    length_with_zero = len(X[X[name] <= 1])\n",
    "    if length_with_zero > 0:\n",
    "        temp_list.append(name)\n",
    "    else:\n",
    "        continue\n",
    "print(len(temp_list))"
   ]
  },
  {
   "cell_type": "code",
   "execution_count": 15,
   "id": "2e5c3bd5",
   "metadata": {},
   "outputs": [
    {
     "name": "stdout",
     "output_type": "stream",
     "text": [
      "shape of X_del: (281, 89)\n"
     ]
    }
   ],
   "source": [
    "X_del = X.drop(temp_list, axis=1)\n",
    "print(\"shape of X_del:\", X_del.shape)"
   ]
  },
  {
   "cell_type": "code",
   "execution_count": 16,
   "id": "92fdeefb",
   "metadata": {},
   "outputs": [],
   "source": [
    "X_log = np.log(X_del)"
   ]
  },
  {
   "attachments": {},
   "cell_type": "markdown",
   "id": "d3e619d2",
   "metadata": {},
   "source": [
    "## 特徵工程(1)\n",
    "---"
   ]
  },
  {
   "cell_type": "markdown",
   "id": "3cd2bdb1",
   "metadata": {},
   "source": [
    "* Split data to Training  & Prediction set. (9:1)"
   ]
  },
  {
   "cell_type": "code",
   "execution_count": 18,
   "id": "47e28313",
   "metadata": {},
   "outputs": [],
   "source": [
    "X_train, X_test, y_train, y_test = train_test_split(X_log, injury[\"tidy_x\"], test_size=0.1, \n",
    "                                                    random_state=99, shuffle=True)"
   ]
  },
  {
   "cell_type": "code",
   "execution_count": 19,
   "id": "fac3dc71",
   "metadata": {},
   "outputs": [
    {
     "name": "stdout",
     "output_type": "stream",
     "text": [
      "shape of X_train: (252, 89)\n",
      "shape of y_train: (252,)\n",
      "shape of X_test: (29, 89)\n",
      "shape of y_test: (29,)\n"
     ]
    }
   ],
   "source": [
    "print(\"shape of X_train:\", X_train.shape)\n",
    "print(\"shape of y_train:\", y_train.shape)\n",
    "print(\"shape of X_test:\", X_test.shape)\n",
    "print(\"shape of y_test:\", y_test.shape)"
   ]
  },
  {
   "cell_type": "code",
   "execution_count": 20,
   "id": "38345259",
   "metadata": {},
   "outputs": [],
   "source": [
    "# 匯出轉換後的切割數據集\n",
    "\n",
    "X_train.to_csv(\"X_train.csv\")\n",
    "y_train.to_csv(\"y_train.csv\")\n",
    "X_test.to_csv(\"X_test.csv\")\n",
    "y_test.to_csv(\"y_test.csv\")"
   ]
  },
  {
   "attachments": {},
   "cell_type": "markdown",
   "id": "9a6ce654",
   "metadata": {},
   "source": [
    "## 模型建置(1)\n",
    "---\n",
    "* Logistic Regression\n",
    "* Decision Tree\n",
    "* Random Forest"
   ]
  },
  {
   "cell_type": "code",
   "execution_count": 21,
   "id": "cca5adbe",
   "metadata": {},
   "outputs": [
    {
     "name": "stdout",
     "output_type": "stream",
     "text": [
      "Accuracy(train):  0.6905\n"
     ]
    }
   ],
   "source": [
    "LR = LogisticRegression(random_state=42, n_jobs=-1)\n",
    "model_1 = LR.fit(X_train, y_train)\n",
    "y_train_hat = model_1.predict(X_train)\n",
    "print(f\"Accuracy(train): {accuracy_score(y_train, y_train_hat): .4f}\")"
   ]
  },
  {
   "cell_type": "code",
   "execution_count": 22,
   "id": "8661a076",
   "metadata": {},
   "outputs": [
    {
     "name": "stdout",
     "output_type": "stream",
     "text": [
      "Accuracy(train):  0.7302\n"
     ]
    }
   ],
   "source": [
    "DT = DecisionTreeClassifier(max_depth=6, random_state=42)\n",
    "model_2 = DT.fit(X_train, y_train)\n",
    "y_train_hat = model_2.predict(X_train)\n",
    "print(f\"Accuracy(train): {accuracy_score(y_train, y_train_hat): .4f}\")"
   ]
  },
  {
   "cell_type": "code",
   "execution_count": 23,
   "id": "20d7cf6b",
   "metadata": {},
   "outputs": [
    {
     "name": "stdout",
     "output_type": "stream",
     "text": [
      "Accuracy(train):  0.7897\n"
     ]
    }
   ],
   "source": [
    "RF = RandomForestClassifier(max_depth=6, random_state=42, n_jobs=-1)\n",
    "model_3 = RF.fit(X_train, y_train)\n",
    "y_train_hat = model_3.predict(X_train)\n",
    "print(f\"Accuracy(train): {accuracy_score(y_train, y_train_hat): .4f}\")"
   ]
  },
  {
   "cell_type": "markdown",
   "id": "679b1093",
   "metadata": {},
   "source": [
    "## 預測分析\n",
    "---"
   ]
  },
  {
   "cell_type": "code",
   "execution_count": 24,
   "id": "25b348f3",
   "metadata": {},
   "outputs": [
    {
     "name": "stdout",
     "output_type": "stream",
     "text": [
      "LR Accuracy(test):  0.6207\n",
      "DT Accuracy(test):  0.5517\n",
      "RF Accuracy(test):  0.5172\n"
     ]
    }
   ],
   "source": [
    "# LR\n",
    "y_test_hat = model_1.predict(X_test)\n",
    "print(f\"LR Accuracy(test): {accuracy_score(y_test, y_test_hat): .4f}\")\n",
    "\n",
    "# DT\n",
    "y_test_hat = model_2.predict(X_test)\n",
    "print(f\"DT Accuracy(test): {accuracy_score(y_test, y_test_hat): .4f}\")\n",
    "\n",
    "# RF\n",
    "y_test_hat = model_3.predict(X_test)\n",
    "print(f\"RF Accuracy(test): {accuracy_score(y_test, y_test_hat): .4f}\")"
   ]
  },
  {
   "cell_type": "code",
   "execution_count": null,
   "id": "0710e605",
   "metadata": {},
   "outputs": [],
   "source": []
  }
 ],
 "metadata": {
  "kernelspec": {
   "display_name": "Python 3 (ipykernel)",
   "language": "python",
   "name": "python3"
  },
  "language_info": {
   "codemirror_mode": {
    "name": "ipython",
    "version": 3
   },
   "file_extension": ".py",
   "mimetype": "text/x-python",
   "name": "python",
   "nbconvert_exporter": "python",
   "pygments_lexer": "ipython3",
   "version": "3.9.13"
  }
 },
 "nbformat": 4,
 "nbformat_minor": 5
}
