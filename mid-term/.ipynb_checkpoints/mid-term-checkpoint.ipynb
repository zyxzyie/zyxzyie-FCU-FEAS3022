{
 "cells": [
  {
   "cell_type": "code",
   "execution_count": 1,
   "id": "6fbcdfbe-1a06-4de2-a20c-71a1a5ece533",
   "metadata": {
    "tags": []
   },
   "outputs": [],
   "source": [
    "import numpy as np\n",
    "import pandas as pd\n",
    "import warnings\n",
    "\n",
    "warnings.filterwarnings(\"ignore\")"
   ]
  },
  {
   "cell_type": "code",
   "execution_count": 3,
   "id": "6c3af04a-8974-4c36-bcbe-4897d2c07299",
   "metadata": {
    "tags": []
   },
   "outputs": [],
   "source": [
    "bio = pd.read_csv(\"bio.csv\")\n",
    "chem = pd.read_csv(\"chem.csv\")\n",
    "injury = pd.read_csv(\"injury.csv\")\n",
    "\n",
    "bio = bio.iloc[:, 1:]\n",
    "chem = chem.iloc[:, 1:]\n",
    "injury = injury.iloc[:, 1:]"
   ]
  },
  {
   "cell_type": "code",
   "execution_count": 4,
   "id": "c77a98fd-a6e5-48cd-89a5-0e830a9ccfe7",
   "metadata": {
    "tags": []
   },
   "outputs": [
    {
     "name": "stdout",
     "output_type": "stream",
     "text": [
      "shape of bio: (281, 184)\n",
      "shape of chem: (281, 192)\n",
      "shape of injury: (281, 1)\n"
     ]
    }
   ],
   "source": [
    "print(\"shape of bio:\", bio.shape)\n",
    "print(\"shape of chem:\", chem.shape)\n",
    "print(\"shape of injury:\", injury.shape)"
   ]
  },
  {
   "cell_type": "markdown",
   "id": "c5b4e1f7-6a84-4977-bdfd-448587b6635d",
   "metadata": {},
   "source": [
    "##  data tidying\n",
    "---"
   ]
  },
  {
   "cell_type": "markdown",
   "id": "fd70f39a-9d72-4d80-8350-7c54a185ee05",
   "metadata": {},
   "source": [
    "* Bind “Severe” & “Mild” into “1”, “None” into “0”"
   ]
  },
  {
   "cell_type": "code",
   "execution_count": 29,
   "id": "3bcba6ea-62d2-4703-a0d4-5562045c4836",
   "metadata": {
    "tags": []
   },
   "outputs": [
    {
     "data": {
      "text/plain": [
       "array([1, 0], dtype=int64)"
      ]
     },
     "execution_count": 29,
     "metadata": {},
     "output_type": "execute_result"
    }
   ],
   "source": [
    "injury[\"tidy_x\"] = [0 if x == \"None\" else 1 for x in injury[\"x\"]]\n",
    "injury[\"tidy_x\"].unique()"
   ]
  },
  {
   "cell_type": "markdown",
   "id": "6cfd1e78-c454-4b03-9b67-132c94c8b7ec",
   "metadata": {},
   "source": [
    "* Combine data to a large X matrixunique"
   ]
  },
  {
   "cell_type": "code",
   "execution_count": 25,
   "id": "39f04f99-697f-413d-a71a-78b86669bca7",
   "metadata": {
    "tags": []
   },
   "outputs": [
    {
     "name": "stdout",
     "output_type": "stream",
     "text": [
      "shape of X: (281, 376)\n"
     ]
    }
   ],
   "source": [
    "X = pd.concat([bio, chem], axis=1)\n",
    "print(\"shape of X:\", X.shape)"
   ]
  },
  {
   "cell_type": "markdown",
   "id": "6a50cf54-551c-4455-a5e0-efa0fb8a788d",
   "metadata": {},
   "source": [
    "## Split data\n",
    "---"
   ]
  },
  {
   "cell_type": "markdown",
   "id": "e75077d9-60f8-4441-bf1b-3761772baab0",
   "metadata": {},
   "source": [
    "* Split data to Training (train + validation) & Prediction set. (8:2)"
   ]
  },
  {
   "cell_type": "code",
   "execution_count": null,
   "id": "724a81d9-7a86-4deb-bb1a-363e7f157773",
   "metadata": {},
   "outputs": [],
   "source": []
  }
 ],
 "metadata": {
  "kernelspec": {
   "display_name": "Python 3 (ipykernel)",
   "language": "python",
   "name": "python3"
  },
  "language_info": {
   "codemirror_mode": {
    "name": "ipython",
    "version": 3
   },
   "file_extension": ".py",
   "mimetype": "text/x-python",
   "name": "python",
   "nbconvert_exporter": "python",
   "pygments_lexer": "ipython3",
   "version": "3.9.13"
  }
 },
 "nbformat": 4,
 "nbformat_minor": 5
}
